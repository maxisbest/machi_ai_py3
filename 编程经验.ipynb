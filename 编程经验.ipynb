{
 "cells": [
  {
   "cell_type": "code",
   "execution_count": 2,
   "metadata": {},
   "outputs": [
    {
     "name": "stdout",
     "output_type": "stream",
     "text": [
      "yvalid=  (array([2, 4, 5], dtype=int64),)\n"
     ]
    }
   ],
   "source": [
    "#理解nonzero\n",
    "import numpy as np\n",
    "\n",
    "ylist = [0, 0, 1, 0, 1, 1]\n",
    "list_np = np.array(ylist)\n",
    "list_np\n",
    "yvalid = np.nonzero(list_np)\n",
    "print(\"yvalid= \", yvalid)\n",
    "x = np.random.choice(yvalid[0].tolist())"
   ]
  },
  {
   "cell_type": "code",
   "execution_count": 18,
   "metadata": {},
   "outputs": [
    {
     "name": "stdout",
     "output_type": "stream",
     "text": [
      "[0 2 5]\n",
      "[2 2 1]\n",
      "[1 2 1]\n"
     ]
    }
   ],
   "source": [
    "y_m = np.zeros((12, 3, 12))\n",
    "y_m[5, 1, 1]=99\n",
    "y_m[0, 2, 1]=100\n",
    "y_m[2, 2, 2]=101\n",
    "y_m\n",
    "y_nz = np.nonzero(y_m)\n",
    "ax0, ax1, ax2 = y_nz #ax0, ax1, ax2三个数组的len()是相等的。\n",
    "print(f\"{ax0}\\n{ax1}\\n{ax2}\")\n",
    "# ax0代表axis 0, 其中的元素是y_m中的非零值在ax0上的下标, 并且按照下标值的大小排序。\n",
    "# ax1代表axis 1, ax2代表axis 2\n",
    "# [ax0[i], ax1[i], ax2[i]]在y_m中定位了一个非零的值。"
   ]
  },
  {
   "cell_type": "code",
   "execution_count": 21,
   "metadata": {
    "scrolled": true
   },
   "outputs": [
    {
     "data": {
      "text/plain": [
       "432"
      ]
     },
     "execution_count": 21,
     "metadata": {},
     "output_type": "execute_result"
    }
   ],
   "source": [
    "y_m_1 = np.ones((12, 3, 12))\n",
    "y_nz = np.nonzero(y_m_1)\n",
    "ax0, ax1, ax2 = y_nz #ax0, ax1, ax2三个数组的len()是相等的。\n",
    "len(ax0)  #因为有12*3*12=432个非零的值, 所以得到 432"
   ]
  },
  {
   "cell_type": "code",
   "execution_count": 19,
   "metadata": {
    "collapsed": true
   },
   "outputs": [
    {
     "name": "stdout",
     "output_type": "stream",
     "text": [
      "<class 'list'>\n"
     ]
    },
    {
     "data": {
      "text/plain": [
       "['amusement_park',\n",
       " 'apple_orchard',\n",
       " 'bakery',\n",
       " 'business_center',\n",
       " 'cafe',\n",
       " 'cheese_factory',\n",
       " 'convenience_store',\n",
       " 'family_restaurant',\n",
       " 'forest',\n",
       " 'fruit&veg_market',\n",
       " 'furniture_factory',\n",
       " 'mine',\n",
       " 'radio_tower',\n",
       " 'ranch',\n",
       " 'shopping_mall',\n",
       " 'stadium',\n",
       " 'station',\n",
       " 'tv_station',\n",
       " 'wheat_field']"
      ]
     },
     "execution_count": 19,
     "metadata": {},
     "output_type": "execute_result"
    }
   ],
   "source": [
    "player_limit = {\n",
    "    'wheat_field': 10,\n",
    "    'apple_orchard': 6,\n",
    "    'ranch': 6,\n",
    "    'forest': 6,\n",
    "    'mine': 6,\n",
    "    'fruit&veg_market': 6,\n",
    "    'cheese_factory': 6,\n",
    "    'furniture_factory': 6,\n",
    "    'bakery': 10,\n",
    "    'convenience_store': 6,\n",
    "    'cafe': 6,\n",
    "    'family_restaurant': 6,\n",
    "    'stadium': 1,\n",
    "    'tv_station': 1,\n",
    "    'business_center': 1,\n",
    "    'shopping_mall': 1,\n",
    "    'station': 1,\n",
    "    'amusement_park': 1,\n",
    "    'radio_tower': 1\n",
    "}\n",
    "#BUILDING_ORDER = list(player_limit.keys())\n",
    "BUILDING_ORDER = [*player_limit]  #  注意*的使用\n",
    "print(type(BUILDING_ORDER))\n",
    "BUILDING_ORDER.sort()\n",
    "BUILDING_ORDER\n"
   ]
  },
  {
   "cell_type": "code",
   "execution_count": 30,
   "metadata": {},
   "outputs": [
    {
     "data": {
      "text/plain": [
       "[0, 3, 4, 6, 10]"
      ]
     },
     "execution_count": 30,
     "metadata": {},
     "output_type": "execute_result"
    }
   ],
   "source": [
    "choice_list = [0, 3, 4, 6, 10, 18]\n",
    "choice_list[:-1] # :-1"
   ]
  },
  {
   "cell_type": "code",
   "execution_count": 39,
   "metadata": {},
   "outputs": [
    {
     "name": "stdout",
     "output_type": "stream",
     "text": [
      "999\n"
     ]
    }
   ],
   "source": [
    "import os\n",
    "\n",
    "\n",
    "def write_g_id(g_id):\n",
    "    g_id = str(g_id)\n",
    "    cwd = os.getcwd()  # C:\\Users\\maxyi\\ai\\deepsims\n",
    "    g_settings_path = os.path.join(cwd, \"g_settings.py\")\n",
    "\n",
    "    line_index = 0\n",
    "    with open(g_settings_path, 'r') as f:\n",
    "        lines = f.readlines()\n",
    "        for i in range(len(lines)):\n",
    "            if \"last_g_id\" in lines[i]:\n",
    "                lines[i] = f\"last_g_id = {g_id}\"\n",
    "                break\n",
    "\n",
    "    with open(g_settings_path, 'w') as f:\n",
    "        for i in range(len(lines)):\n",
    "            if lines[i]!='':\n",
    "                f.write(lines[i]+'\\n')\n",
    "\n",
    "    return\n",
    "\n",
    "\n",
    "def get_g_id():\n",
    "    cwd = os.getcwd()  # C:\\Users\\maxyi\\ai\\deepsims\n",
    "    g_settings_path = os.path.join(cwd, \"g_settings.py\")\n",
    "    with open(g_settings_path, 'r') as f:\n",
    "        lines = f.readlines()\n",
    "        for i in lines:\n",
    "            if \"last_g_id\" in i:\n",
    "                i_list = i.split(' ')\n",
    "                g_id = int(i_list[-1])\n",
    "                return g_id\n",
    "\n",
    "\n",
    "print(get_g_id())\n",
    "write_g_id(123)\n"
   ]
  },
  {
   "cell_type": "code",
   "execution_count": 5,
   "metadata": {
    "collapsed": true
   },
   "outputs": [
    {
     "name": "stdout",
     "output_type": "stream",
     "text": [
      "                   p0  p1  p2  p3  supply\n",
      "wheat_field         2   1   5   2       2\n",
      "apple_orchard       5   0   0   1       1\n",
      "ranch               4   0   2   0       0\n",
      "forest              0   0   1   2       2\n",
      "mine                1   4   0   0       0\n",
      "fruit&veg_market    3   1   2   0       0\n",
      "cheese_factory      0   0   1   2       2\n",
      "furniture_factory   0   0   3   3       3\n",
      "bakery              1   4   2   3       3\n",
      "convenience_store   1   4   0   1       1\n",
      "cafe                1   2   2   1       1\n",
      "family_restaurant   0   3   2   1       1\n",
      "stadium             0   1   1   1       1\n",
      "tv_station          1   1   1   0       0\n",
      "business_center     0   1   1   1       1\n",
      "shopping_mall       1   1   0   1       1\n",
      "station             1   0   0   1       1\n",
      "amusement_park      1   1   0   0       0\n",
      "radio_tower         1   1   0   0       0\n",
      "coins               3   4   5   6       0\n"
     ]
    }
   ],
   "source": [
    "import pandas as pd\n",
    "from copy import deepcopy\n",
    "\n",
    "\n",
    "p0_bld = {'wheat_field': 2, 'apple_orchard': 5, 'ranch': 4, 'forest': 0, 'mine': 1, 'fruit&veg_market': 3, 'cheese_factory': 0, 'furniture_factory': 0, 'bakery': 1, 'convenience_store': 1, 'cafe': 1, 'family_restaurant': 0, 'stadium': 0, 'tv_station': 1, 'business_center': 0, 'shopping_mall': 1, 'station': 1, 'amusement_park': 1, 'radio_tower': 1}\n",
    "p1_bld = {'wheat_field': 1, 'apple_orchard': 0, 'ranch': 0, 'forest': 0, 'mine': 4, 'fruit&veg_market': 1, 'cheese_factory': 0, 'furniture_factory': 0, 'bakery': 4, 'convenience_store': 4, 'cafe': 2, 'family_restaurant': 3, 'stadium': 1, 'tv_station': 1, 'business_center': 1, 'shopping_mall': 1, 'station': 0, 'amusement_park': 1, 'radio_tower': 1}\n",
    "p2_bld = {'wheat_field': 5, 'apple_orchard': 0, 'ranch': 2, 'forest': 1, 'mine': 0, 'fruit&veg_market': 2, 'cheese_factory': 1, 'furniture_factory': 3, 'bakery': 2, 'convenience_store': 0, 'cafe': 2, 'family_restaurant': 2, 'stadium': 1, 'tv_station': 1, 'business_center': 1, 'shopping_mall': 0, 'station': 0, 'amusement_park': 0, 'radio_tower': 0}\n",
    "p3_bld = {'wheat_field': 2, 'apple_orchard': 1, 'ranch': 0, 'forest': 2, 'mine': 0, 'fruit&veg_market': 0, 'cheese_factory': 2, 'furniture_factory': 3, 'bakery': 3, 'convenience_store': 1, 'cafe': 1, 'family_restaurant': 1, 'stadium': 1, 'tv_station': 0, 'business_center': 1, 'shopping_mall': 1, 'station': 1, 'amusement_park': 0, 'radio_tower': 0}\n",
    "supply_bld = {'wheat_field': 2, 'apple_orchard': 1, 'ranch': 0, 'forest': 2, 'mine': 0, 'fruit&veg_market': 0, 'cheese_factory': 2, 'furniture_factory': 3, 'bakery': 3, 'convenience_store': 1, 'cafe': 1, 'family_restaurant': 1, 'stadium': 1, 'tv_station': 0, 'business_center': 1, 'shopping_mall': 1, 'station': 1, 'amusement_park': 0, 'radio_tower': 0}\n",
    "\n",
    "# deepcopy\n",
    "p0_bldg = deepcopy(p0_bld)\n",
    "p1_bldg = deepcopy(p1_bld)\n",
    "p2_bldg = deepcopy(p2_bld)\n",
    "p3_bldg = deepcopy(p3_bld)\n",
    "supply_bldg = deepcopy(supply_bld)\n",
    "\n",
    "#每个字典增加一个coins键-值对\n",
    "p0_bldg['coins'] = 3\n",
    "p1_bldg['coins'] = 4\n",
    "p2_bldg['coins'] = 5\n",
    "p3_bldg['coins'] = 6\n",
    "supply_bldg['coins'] = 0\n",
    "\n",
    "\n",
    "#将字典转换为序列\n",
    "ser0 = pd.Series(p0_bldg)\n",
    "ser1 = pd.Series(p1_bldg)\n",
    "ser2 = pd.Series(p2_bldg)\n",
    "ser3 = pd.Series(p3_bldg)\n",
    "supply = pd.Series(supply_bldg)\n",
    "\n",
    "#将序列合成DataFrame\n",
    "df = pd.DataFrame({'p0':ser0, 'p1':ser1, 'p2':ser2, 'p3':ser3, 'supply': supply})\n",
    "\n",
    "print(df)"
   ]
  },
  {
   "cell_type": "code",
   "execution_count": 15,
   "metadata": {},
   "outputs": [
    {
     "name": "stdout",
     "output_type": "stream",
     "text": [
      "['cafe', 'family_restaurant', 'bakery', 'convenience_store', 'cheese_factory', 'furniture_factory', 'fruit&veg_market', 'ranch', 'forest', 'mine', 'wheat_field', 'apple_orchard', 'stadium', 'tv_station', 'business_center', 'station', 'shopping_mall', 'amusement_park', 'radio_tower', 'coins']\n"
     ]
    }
   ],
   "source": [
    "RGBP_ORDER = ['cafe', 'family_restaurant', 'bakery', 'convenience_store', 'cheese_factory', 'furniture_factory', 'fruit&veg_market', 'ranch', 'forest', 'mine', 'wheat_field','apple_orchard', 'stadium', 'tv_station', 'business_center', 'station', 'shopping_mall', 'amusement_park', 'radio_tower']\n",
    "\n",
    "RGBP_STRIP = [RGBP_ORDER[i].strip() for i in range(len(RGBP_ORDER))]\n",
    "RGBP_STRIP\n",
    "rows = RGBP_STRIP + ['coins']\n",
    "print(rows)"
   ]
  },
  {
   "cell_type": "code",
   "execution_count": 16,
   "metadata": {},
   "outputs": [
    {
     "data": {
      "text/plain": [
       "[[], [], [], []]"
      ]
     },
     "execution_count": 16,
     "metadata": {},
     "output_type": "execute_result"
    }
   ],
   "source": [
    "vals = [[] for _ in range(4)]\n",
    "vals"
   ]
  },
  {
   "cell_type": "code",
   "execution_count": 28,
   "metadata": {},
   "outputs": [
    {
     "name": "stdout",
     "output_type": "stream",
     "text": [
      "[6, 6, 6, 6, 6, 6, 6, 6, 6, 6, 6, 6, 4, 4, 4, 4, 4, 4, 4, 100]\n",
      "[2, 3, 1, 2, 5, 3, 2, 1, 3, 6, 1, 3, 6, 7, 8, 4, 10, 16, 22, 999]\n"
     ]
    },
    {
     "data": {
      "text/plain": [
       "484"
      ]
     },
     "execution_count": 28,
     "metadata": {},
     "output_type": "execute_result"
    }
   ],
   "source": [
    "BUILDING_ORDER = ['cafe',\n",
    " 'family_restaurant',\n",
    " 'bakery',\n",
    " 'convenience_store',\n",
    " 'cheese_factory',\n",
    " 'furniture_factory',\n",
    " 'fruit&veg_market',\n",
    " 'ranch',\n",
    " 'forest',\n",
    " 'mine',\n",
    " 'wheat_field',\n",
    " 'apple_orchard',\n",
    " 'stadium',\n",
    " 'tv_station',\n",
    " 'business_center',\n",
    " 'station',\n",
    " 'shopping_mall',\n",
    " 'amusement_park',\n",
    " 'radio_tower']\n",
    "\n",
    "supply_buildings = {\n",
    "    'wheat_field': 6,\n",
    "    'apple_orchard': 6,\n",
    "    'ranch': 6,\n",
    "    'forest': 6,\n",
    "    'mine': 6,\n",
    "    'fruit&veg_market': 6,\n",
    "    'cheese_factory': 6,\n",
    "    'furniture_factory': 6,\n",
    "    'bakery': 6,\n",
    "    'convenience_store': 6,\n",
    "    'cafe': 6,\n",
    "    'family_restaurant': 6,\n",
    "    'stadium': 4,\n",
    "    'tv_station': 4,\n",
    "    'business_center': 4,\n",
    "    'shopping_mall': 4,\n",
    "    'station': 4,\n",
    "    'amusement_park': 4,\n",
    "    'radio_tower': 4}\n",
    "\n",
    "building_cost = {\n",
    "    'wheat_field': 1,\n",
    "    'apple_orchard': 3,\n",
    "    'ranch': 1,\n",
    "    'forest': 3,\n",
    "    'mine': 6,\n",
    "    'fruit&veg_market': 2,\n",
    "    'cheese_factory': 5,\n",
    "    'furniture_factory': 3,\n",
    "    'bakery': 1,\n",
    "    'convenience_store': 2,\n",
    "    'cafe': 2,\n",
    "    'family_restaurant': 3,\n",
    "    'stadium': 6,\n",
    "    'tv_station': 7,\n",
    "    'business_center': 8,\n",
    "    'shopping_mall': 10,\n",
    "    'station': 4,\n",
    "    'amusement_park': 16,\n",
    "    'radio_tower': 22\n",
    "}\n",
    "\n",
    "supply_val = [supply_buildings[BUILDING_ORDER[i]] for i in range(len(BUILDING_ORDER))] + [100]\n",
    "print(supply_val)\n",
    "sum(supply_val[:-1])\n",
    "\n",
    "bld_cost = [building_cost[BUILDING_ORDER[i]] for i in range(len(BUILDING_ORDER))] + [999]\n",
    "print(bld_cost)\n",
    "sum(bld_cost[:-1])\n",
    "x=[supply_val[i]*bld_cost[i] for i in range(len(bld_cost))]\n",
    "sum(x[:-1])"
   ]
  },
  {
   "cell_type": "code",
   "execution_count": 29,
   "metadata": {
    "scrolled": true
   },
   "outputs": [
    {
     "data": {
      "text/plain": [
       "[1, 1, 1, 1, 1, 1, 1, 1, 1, 1, 1, 1, 1, 1, 1, 1, 1, 1, 1, 1]"
      ]
     },
     "execution_count": 29,
     "metadata": {},
     "output_type": "execute_result"
    }
   ],
   "source": [
    "x = [1]*len(rows)\n",
    "x"
   ]
  },
  {
   "cell_type": "code",
   "execution_count": 53,
   "metadata": {},
   "outputs": [
    {
     "name": "stdout",
     "output_type": "stream",
     "text": [
      "[1, 2, 3]\n"
     ]
    },
    {
     "data": {
      "text/plain": [
       "2"
      ]
     },
     "execution_count": 53,
     "metadata": {},
     "output_type": "execute_result"
    }
   ],
   "source": [
    "from random import choice\n",
    "nplayers=4\n",
    "cand_ix = [i+1 for i in range(nplayers)]\n",
    "print(cand_ix[:-1])\n",
    "ychoice = choice(cand_ix[:-1])\n",
    "ychoice"
   ]
  },
  {
   "cell_type": "code",
   "execution_count": 54,
   "metadata": {},
   "outputs": [
    {
     "name": "stdout",
     "output_type": "stream",
     "text": [
      "{100, 4, 6}\n"
     ]
    }
   ],
   "source": [
    "lst = [6, 6, 6, 6, 6, 6, 6, 6, 6, 6, 6, 6, 4, 4, 4, 4, 4, 4, 4, 100]\n",
    "print(set(lst))"
   ]
  }
 ],
 "metadata": {
  "kernelspec": {
   "display_name": "Python 3",
   "language": "python",
   "name": "python3"
  },
  "language_info": {
   "codemirror_mode": {
    "name": "ipython",
    "version": 3
   },
   "file_extension": ".py",
   "mimetype": "text/x-python",
   "name": "python",
   "nbconvert_exporter": "python",
   "pygments_lexer": "ipython3",
   "version": "3.6.8"
  }
 },
 "nbformat": 4,
 "nbformat_minor": 2
}
